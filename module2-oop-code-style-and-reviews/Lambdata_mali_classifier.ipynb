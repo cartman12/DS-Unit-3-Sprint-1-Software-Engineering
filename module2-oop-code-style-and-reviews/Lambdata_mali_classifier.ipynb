{
  "nbformat": 4,
  "nbformat_minor": 0,
  "metadata": {
    "colab": {
      "name": "Lambdata_mali_classifier.ipynb",
      "version": "0.3.2",
      "provenance": [],
      "collapsed_sections": [],
      "include_colab_link": true
    },
    "kernelspec": {
      "name": "python3",
      "display_name": "Python 3"
    }
  },
  "cells": [
    {
      "cell_type": "markdown",
      "metadata": {
        "id": "view-in-github",
        "colab_type": "text"
      },
      "source": [
        "<a href=\"https://colab.research.google.com/github/cartman12/DS-Unit-3-Sprint-1-Software-Engineering/blob/master/module2-oop-code-style-and-reviews/Lambdata_mali_classifier.ipynb\" target=\"_parent\"><img src=\"https://colab.research.google.com/assets/colab-badge.svg\" alt=\"Open In Colab\"/></a>"
      ]
    },
    {
      "cell_type": "code",
      "metadata": {
        "id": "WUgBxtwiGvX3",
        "colab_type": "code",
        "colab": {}
      },
      "source": [
        "import numpy as np\n",
        "import pandas as pd"
      ],
      "execution_count": 0,
      "outputs": []
    },
    {
      "cell_type": "code",
      "metadata": {
        "id": "9fICPeL_GzbY",
        "colab_type": "code",
        "outputId": "3226aebf-c266-4413-f1d3-9b1448ba55f0",
        "colab": {
          "base_uri": "https://localhost:8080/",
          "height": 210
        }
      },
      "source": [
        "# My package https://test.pypi.org/project/lambdata-mali-classifier/0.3/\n",
        "pip install -i https://test.pypi.org/simple/ lambdata-mali-classifier==0.3"
      ],
      "execution_count": 0,
      "outputs": [
        {
          "output_type": "stream",
          "text": [
            "Looking in indexes: https://test.pypi.org/simple/\n",
            "Requirement already satisfied: lambdata-mali-classifier==0.3 in /usr/local/lib/python3.6/dist-packages (0.3)\n",
            "Requirement already satisfied: pandas in /usr/local/lib/python3.6/dist-packages (from lambdata-mali-classifier==0.3) (0.24.2)\n",
            "Requirement already satisfied: sklearn in /usr/local/lib/python3.6/dist-packages (from lambdata-mali-classifier==0.3) (0.0)\n",
            "Requirement already satisfied: numpy>=1.12.0 in /usr/local/lib/python3.6/dist-packages (from pandas->lambdata-mali-classifier==0.3) (1.16.4)\n",
            "Requirement already satisfied: python-dateutil>=2.5.0 in /usr/local/lib/python3.6/dist-packages (from pandas->lambdata-mali-classifier==0.3) (2.5.3)\n",
            "Requirement already satisfied: pytz>=2011k in /usr/local/lib/python3.6/dist-packages (from pandas->lambdata-mali-classifier==0.3) (2018.9)\n",
            "Requirement already satisfied: scikit-learn in /usr/local/lib/python3.6/dist-packages (from sklearn->lambdata-mali-classifier==0.3) (0.21.2)\n",
            "Requirement already satisfied: six>=1.5 in /usr/local/lib/python3.6/dist-packages (from python-dateutil>=2.5.0->pandas->lambdata-mali-classifier==0.3) (1.12.0)\n",
            "Requirement already satisfied: joblib>=0.11 in /usr/local/lib/python3.6/dist-packages (from scikit-learn->sklearn->lambdata-mali-classifier==0.3) (0.13.2)\n",
            "Requirement already satisfied: scipy>=0.17.0 in /usr/local/lib/python3.6/dist-packages (from scikit-learn->sklearn->lambdata-mali-classifier==0.3) (1.3.0)\n"
          ],
          "name": "stdout"
        }
      ]
    },
    {
      "cell_type": "code",
      "metadata": {
        "id": "0vO0WVulG6NY",
        "colab_type": "code",
        "colab": {}
      },
      "source": [
        "# import two fucntion of this classifier fit() and predict()\n",
        "from lambdata_mali_classifier import *"
      ],
      "execution_count": 0,
      "outputs": []
    },
    {
      "cell_type": "code",
      "metadata": {
        "id": "xdEIQ5j4G9Qu",
        "colab_type": "code",
        "colab": {}
      },
      "source": [
        "# lets test with some data\n",
        "import pandas as pd\n",
        "url = 'https://drive.google.com/uc?export=download&id=1fL7KPyxgGYfQDsuJoBWHIWwCAf-HTFpX'\n",
        "df = pd.read_csv(url, parse_dates=['game_date']).set_index('game_date')\n",
        "assert df.shape == (13958, 19)"
      ],
      "execution_count": 0,
      "outputs": []
    },
    {
      "cell_type": "code",
      "metadata": {
        "id": "3uvGIov-HCVo",
        "colab_type": "code",
        "colab": {}
      },
      "source": [
        "# split data\n",
        "train = df['2009':'2017-06']\n",
        "val = df['2017-10':'2018-06']\n",
        "test = df['2018-10':'2019']"
      ],
      "execution_count": 0,
      "outputs": []
    },
    {
      "cell_type": "code",
      "metadata": {
        "id": "F7XaD9aDHFYZ",
        "colab_type": "code",
        "colab": {}
      },
      "source": [
        "lambdata_mali_classifier??"
      ],
      "execution_count": 0,
      "outputs": []
    },
    {
      "cell_type": "code",
      "metadata": {
        "id": "0_3YUDltHHG1",
        "colab_type": "code",
        "outputId": "46af2bea-65ba-4252-f277-a865e551be24",
        "colab": {
          "base_uri": "https://localhost:8080/",
          "height": 70
        }
      },
      "source": [
        "target = 'shot_made_flag'\n",
        "y_train = train[target]\n",
        "y_train.value_counts(normalize=True)"
      ],
      "execution_count": 0,
      "outputs": [
        {
          "output_type": "execute_result",
          "data": {
            "text/plain": [
              "0    0.527209\n",
              "1    0.472791\n",
              "Name: shot_made_flag, dtype: float64"
            ]
          },
          "metadata": {
            "tags": []
          },
          "execution_count": 7
        }
      ]
    },
    {
      "cell_type": "code",
      "metadata": {
        "id": "FtzwihBNHZcH",
        "colab_type": "code",
        "outputId": "070011d3-4026-45fe-e671-87a61c7610aa",
        "colab": {
          "base_uri": "https://localhost:8080/",
          "height": 34
        }
      },
      "source": [
        "majority_class = y_train.mode()[0]\n",
        "y_pred = [majority_class] * len(y_train)\n",
        "accuracy_score(y_train, y_pred)"
      ],
      "execution_count": 0,
      "outputs": [
        {
          "output_type": "execute_result",
          "data": {
            "text/plain": [
              "0.5272087356736757"
            ]
          },
          "metadata": {
            "tags": []
          },
          "execution_count": 8
        }
      ]
    },
    {
      "cell_type": "code",
      "metadata": {
        "id": "X9SGnd80Hf4K",
        "colab_type": "code",
        "outputId": "bf3dec6e-b510-46d5-f59c-d4176595f5cc",
        "colab": {
          "base_uri": "https://localhost:8080/",
          "height": 34
        }
      },
      "source": [
        "y_val = val[target]\n",
        "y_pred = [majority_class] * len(y_val)\n",
        "accuracy_score(y_val, y_pred)"
      ],
      "execution_count": 0,
      "outputs": [
        {
          "output_type": "execute_result",
          "data": {
            "text/plain": [
              "0.5162671232876712"
            ]
          },
          "metadata": {
            "tags": []
          },
          "execution_count": 9
        }
      ]
    },
    {
      "cell_type": "code",
      "metadata": {
        "id": "Jhb06T6wHi9q",
        "colab_type": "code",
        "outputId": "fbc51324-3907-4549-812a-e4a7a721236e",
        "colab": {
          "base_uri": "https://localhost:8080/",
          "height": 122
        }
      },
      "source": [
        "def wrangle(X):\n",
        "  for cols in ['game_id','game_event_id']:\n",
        "    X.loc[:,cols] = X.loc[:,cols].astype(str)\n",
        "  return X\n",
        "train = wrangle(train)\n",
        "val = wrangle(val)\n",
        "test = wrangle(test)"
      ],
      "execution_count": 0,
      "outputs": [
        {
          "output_type": "stream",
          "text": [
            "/usr/local/lib/python3.6/dist-packages/pandas/core/indexing.py:543: SettingWithCopyWarning: \n",
            "A value is trying to be set on a copy of a slice from a DataFrame.\n",
            "Try using .loc[row_indexer,col_indexer] = value instead\n",
            "\n",
            "See the caveats in the documentation: http://pandas.pydata.org/pandas-docs/stable/indexing.html#indexing-view-versus-copy\n",
            "  self.obj[item] = s\n"
          ],
          "name": "stderr"
        }
      ]
    },
    {
      "cell_type": "code",
      "metadata": {
        "id": "GRt1KgJjHlqE",
        "colab_type": "code",
        "colab": {}
      },
      "source": [
        "cat_features = ['action_type', 'shot_type','shot_zone_area','season_type','game_event_id']\n",
        "num_features = ['period','minutes_remaining','seconds_remaining','shot_distance','scoremargin_before_shot','loc_x','loc_y']\n",
        "features = cat_features + num_features"
      ],
      "execution_count": 0,
      "outputs": []
    },
    {
      "cell_type": "code",
      "metadata": {
        "id": "2JG5ZcLoHoc-",
        "colab_type": "code",
        "colab": {}
      },
      "source": [
        "X_train = train[cat_features]\n",
        "y_train = train[target]\n",
        "X_val = val[cat_features]\n",
        "y_val = val[target]\n",
        "X_test = test[cat_features]\n",
        "y_test = test[target]"
      ],
      "execution_count": 0,
      "outputs": []
    },
    {
      "cell_type": "code",
      "metadata": {
        "id": "YBL2Sy7uHqwr",
        "colab_type": "code",
        "colab": {}
      },
      "source": [
        "# My package only takes categorical values at the moment and still not workable with encoded values\n",
        "\n",
        "# Lets Test it"
      ],
      "execution_count": 0,
      "outputs": []
    },
    {
      "cell_type": "code",
      "metadata": {
        "id": "Bt65eWVGH9GO",
        "colab_type": "code",
        "colab": {}
      },
      "source": [
        "# Pass or fit() method to a variable called model\n",
        "score, model = fit(X_train, y_train) # ---> Score is is the fit score, model is what we will pass to predict"
      ],
      "execution_count": 0,
      "outputs": []
    },
    {
      "cell_type": "code",
      "metadata": {
        "id": "NomVtnrKITmw",
        "colab_type": "code",
        "outputId": "b258fed0-8019-4152-be5f-bc579f0839df",
        "colab": {
          "base_uri": "https://localhost:8080/",
          "height": 34
        }
      },
      "source": [
        "# now lets predict both test and val and see how our model fares\n",
        "predict(X_test,y_test,model)"
      ],
      "execution_count": 0,
      "outputs": [
        {
          "output_type": "execute_result",
          "data": {
            "text/plain": [
              "0.5810415447630193"
            ]
          },
          "metadata": {
            "tags": []
          },
          "execution_count": 16
        }
      ]
    },
    {
      "cell_type": "code",
      "metadata": {
        "id": "ehisReNcIfJc",
        "colab_type": "code",
        "outputId": "c863d77d-d696-4cfa-f873-ad727ca72688",
        "colab": {
          "base_uri": "https://localhost:8080/",
          "height": 34
        }
      },
      "source": [
        "predict(X_val,y_val,model)"
      ],
      "execution_count": 0,
      "outputs": [
        {
          "output_type": "execute_result",
          "data": {
            "text/plain": [
              "0.5950342465753424"
            ]
          },
          "metadata": {
            "tags": []
          },
          "execution_count": 17
        }
      ]
    },
    {
      "cell_type": "code",
      "metadata": {
        "id": "3jvaMHWEJKtC",
        "colab_type": "code",
        "colab": {}
      },
      "source": [
        "# We beat the baseline!"
      ],
      "execution_count": 0,
      "outputs": []
    },
    {
      "cell_type": "code",
      "metadata": {
        "id": "ITXTmPlAIhMP",
        "colab_type": "code",
        "colab": {}
      },
      "source": [
        "# The same data got 61% using only ENCODED categorical features using DecisionTreeClassifier\n",
        "# and a score of 63% using both encoded cat and numerical features using DecisionTreeClassifier"
      ],
      "execution_count": 0,
      "outputs": []
    }
  ]
}